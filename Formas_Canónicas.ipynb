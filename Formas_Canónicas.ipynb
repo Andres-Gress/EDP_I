{
  "nbformat": 4,
  "nbformat_minor": 0,
  "metadata": {
    "colab": {
      "provenance": [],
      "authorship_tag": "ABX9TyMT4vnyAhl1XVITBCHTZlUr",
      "include_colab_link": true
    },
    "kernelspec": {
      "name": "python3",
      "display_name": "Python 3"
    },
    "language_info": {
      "name": "python"
    }
  },
  "cells": [
    {
      "cell_type": "markdown",
      "metadata": {
        "id": "view-in-github",
        "colab_type": "text"
      },
      "source": [
        "<a href=\"https://colab.research.google.com/github/Andres-Gress/EDP_I/blob/main/Formas_Can%C3%B3nicas.ipynb\" target=\"_parent\"><img src=\"https://colab.research.google.com/assets/colab-badge.svg\" alt=\"Open In Colab\"/></a>"
      ]
    },
    {
      "cell_type": "markdown",
      "source": [
        "**FORMAS CANÓNICAS**"
      ],
      "metadata": {
        "id": "Ysv0iEnjh84w"
      }
    },
    {
      "cell_type": "code",
      "source": [
        "import sympy as sp\n",
        "\n",
        "x, y = sp.symbols('x y')\n",
        "\n",
        "A_val= 1\n",
        "B_val=-3\n",
        "C_val= -10\n",
        "D_val= 0\n",
        "E_val= 0\n",
        "F_val= 0\n",
        "\n",
        "A, B, C = sp.sympify(A_val), sp.sympify(B_val), sp.sympify(C_val)\n",
        "\n",
        "I = B**2 - 4*A*C\n",
        "print(f\"Discriminante I = {I}\")\n",
        "\n",
        "sqrt_I = sp.sqrt(I)\n",
        "\n",
        "xi = -(B + sqrt_I)*x + 2*A*y\n",
        "eta = -(B - sqrt_I)*x + 2*A*y\n",
        "\n",
        "a11=-(B + sqrt_I)\n",
        "a12=2*A_val\n",
        "a21=-(B - sqrt_I)\n",
        "a22=2*A_val\n",
        "\n",
        "print(f\"\\nTransformaciones lineales:\")\n",
        "print(f\"ξ(x, y)  = {xi}\")\n",
        "print(f\"η(x, y) = {eta}\")\n",
        "\n",
        "A_t= A_val*a11**2+B_val*a11*a12+C_val*a12**2\n",
        "B_t= 2*A_val*a11*a21+B_val*(a11*a22+a21*a12)+C_val*2*a12*a22\n",
        "C_t= A_val*a21**2+B_val*a21*a22+C_val*a22**2\n",
        "D_t= D_val*a11+E_val*a12\n",
        "E_t= D_val*a21+E_val*a22\n",
        "\n",
        "if I < 0:\n",
        "    tipo = \"Elíptica\"\n",
        "    forma_canonica = f\"\\n{A_t}*u_ξξ + {C_t}*u_ηη = H'\"\n",
        "elif I == 0:\n",
        "    tipo = \"Parabólica\"\n",
        "    forma_canonica = f\"\\n{C_t}*u_ηη = G'\"\n",
        "\n",
        "else:\n",
        "    tipo = \"Hipérbolica\"\n",
        "    forma_canonica = f\"\\n{B_t}*u_ξη = F'\\nó \\n{A_t}*u_ξξ - {C_t}*u_ηη=F'\"\n",
        "\n",
        "\n",
        "print(f\"\\nTipo: {tipo}\")\n",
        "print(f\"Forma canónica: {forma_canonica}\")\n"
      ],
      "metadata": {
        "colab": {
          "base_uri": "https://localhost:8080/"
        },
        "id": "wy3b8bReXCBs",
        "outputId": "93e80cd2-1d4f-4a71-c6d6-45952d41995f"
      },
      "execution_count": 44,
      "outputs": [
        {
          "output_type": "stream",
          "name": "stdout",
          "text": [
            "Discriminante I = 49\n",
            "\n",
            "Transformaciones lineales:\n",
            "ξ(x, y)  = -4*x + 2*y\n",
            "η(x, y) = 10*x + 2*y\n",
            "\n",
            "Tipo: Hipérbolica\n",
            "Forma canónica: \n",
            "-196*u_ξη = F'\n",
            "ó \n",
            "0*u_ξξ - 0*u_ηη=F'\n"
          ]
        }
      ]
    },
    {
      "cell_type": "markdown",
      "source": [
        "Primero damos los valores de los coeficientes de nuestra EDP original, escribimos las transformaciones, se calcula el discriminante, se calculan los $a_i$ y finalmente se identifica y se muestra la forma canónica"
      ],
      "metadata": {
        "id": "b8YYKwlkhN4A"
      }
    }
  ]
}